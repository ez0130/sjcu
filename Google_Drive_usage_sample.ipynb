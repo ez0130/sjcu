{
 "cells": [
  {
   "cell_type": "markdown",
   "metadata": {
    "colab_type": "text",
    "id": "YhJDPiSWEa-N"
   },
   "source": [
    "# 나의 Google Drive에 있는 File 을 Colab 에서 사용하는 방법\n",
    "1. Colab 에서 Google Drive 를 Gdrive 로 Mount 한다. ( 여기서 \"Gdrive\" 은 원하는 어떤 이름도 가능함)"
   ]
  },
  {
   "cell_type": "code",
   "execution_count": null,
   "metadata": {
    "colab": {
     "base_uri": "https://localhost:8080/",
     "height": 35
    },
    "colab_type": "code",
    "executionInfo": {
     "elapsed": 2115,
     "status": "ok",
     "timestamp": 1584931054293,
     "user": {
      "displayName": "HyoJung Kim",
      "photoUrl": "",
      "userId": "04656598064326222844"
     },
     "user_tz": -540
    },
    "id": "G1dcJBwpP7zP",
    "outputId": "2f9a15b2-ecdd-4d69-f116-a44e4bce8f7b"
   },
   "outputs": [],
   "source": [
    "from google.colab import drive\n",
    "drive.mount('Gdrive')"
   ]
  },
  {
   "cell_type": "markdown",
   "metadata": {
    "colab_type": "text",
    "id": "fe1k9iArFx_1"
   },
   "source": [
    "2. File 을 읽어본다 ( 읽기전 나의 Google Drive 해당 Folder 에 해당  File 이 있는지  Google Drive 에서 확인한다.)"
   ]
  },
  {
   "cell_type": "code",
   "execution_count": null,
   "metadata": {
    "colab": {},
    "colab_type": "code",
    "id": "9RtlMLJhE5LN"
   },
   "outputs": [],
   "source": [
    "import pandas as pd\n",
    "df = pd.read_csv('Gdrive/My Drive/eda-datavis/w2/housepricedata.csv')"
   ]
  },
  {
   "cell_type": "markdown",
   "metadata": {
    "colab_type": "text",
    "id": "z72iuBRYHTct"
   },
   "source": [
    "3. 읽은 File 내용을 출력한다."
   ]
  },
  {
   "cell_type": "code",
   "execution_count": null,
   "metadata": {
    "colab": {
     "base_uri": "https://localhost:8080/",
     "height": 439
    },
    "colab_type": "code",
    "executionInfo": {
     "elapsed": 717,
     "status": "ok",
     "timestamp": 1584879420686,
     "user": {
      "displayName": "SANGWOOK LEE",
      "photoUrl": "",
      "userId": "06264595471931206035"
     },
     "user_tz": -540
    },
    "id": "ygGJvTrbHLtS",
    "outputId": "d1e06349-cb20-4116-e572-851855fb98b8"
   },
   "outputs": [],
   "source": [
    "df"
   ]
  }
 ],
 "metadata": {
  "colab": {
   "collapsed_sections": [],
   "name": "Google Drive usage sample.ipynb",
   "provenance": [
    {
     "file_id": "1OTEpk00FygutjVxJlKevsIV1vvHQe7jn",
     "timestamp": 1584928831200
    },
    {
     "file_id": "179pD31JxGfMI9wNNM7PwPQwBFSnQttxr",
     "timestamp": 1584926863489
    }
   ]
  },
  "kernelspec": {
   "display_name": "Python 3",
   "language": "python",
   "name": "python3"
  },
  "language_info": {
   "codemirror_mode": {
    "name": "ipython",
    "version": 3
   },
   "file_extension": ".py",
   "mimetype": "text/x-python",
   "name": "python",
   "nbconvert_exporter": "python",
   "pygments_lexer": "ipython3",
   "version": "3.7.4"
  }
 },
 "nbformat": 4,
 "nbformat_minor": 4
}
