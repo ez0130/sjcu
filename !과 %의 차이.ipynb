{
 "cells": [
  {
   "cell_type": "markdown",
   "metadata": {},
   "source": [
    "## !과 %의 차이 "
   ]
  },
  {
   "cell_type": "markdown",
   "metadata": {},
   "source": [
    "!명령어는 Anaconda command prompt와 함께 실행되며, %는 노트북 커널에서 실행된다. "
   ]
  },
  {
   "cell_type": "code",
   "execution_count": 1,
   "metadata": {},
   "outputs": [
    {
     "name": "stdout",
     "output_type": "stream",
     "text": [
      "test\n"
     ]
    }
   ],
   "source": [
    "!echo test"
   ]
  },
  {
   "cell_type": "code",
   "execution_count": 2,
   "metadata": {},
   "outputs": [
    {
     "name": "stdout",
     "output_type": "stream",
     "text": [
      "test\n"
     ]
    }
   ],
   "source": [
    "%echo test"
   ]
  },
  {
   "cell_type": "code",
   "execution_count": 3,
   "metadata": {},
   "outputs": [],
   "source": [
    "!cd tmp"
   ]
  },
  {
   "cell_type": "code",
   "execution_count": 4,
   "metadata": {},
   "outputs": [
    {
     "name": "stdout",
     "output_type": "stream",
     "text": [
      " C 드라이브의 볼륨에는 이름이 없습니다.\n",
      " 볼륨 일련 번호: 88A2-59ED\n",
      "\n",
      " C:\\Users\\user\\Desktop\\- 데이터과학의세계\\w2-3lecture 디렉터리\n",
      "\n",
      "2022-03-20  오전 01:16    <DIR>          .\n",
      "2022-03-20  오전 01:16    <DIR>          ..\n",
      "2021-03-12  오전 07:41             6,502 !과 %의 차이.ipynb\n",
      "2022-03-01  오후 05:26    <DIR>          .ipynb_checkpoints\n",
      "2020-03-23  오전 11:41             3,040 Google_Drive_usage_sample.ipynb\n",
      "2020-03-23  오전 10:13            45,146 housepricedata.csv\n",
      "2021-02-13  오후 03:34    <DIR>          img\n",
      "2021-02-11  오후 02:23             8,574 introduction_jupyter 및 마크다운.ipynb\n",
      "2021-02-14  오후 08:21           227,176 Jupyter Notebook 테스트.ipynb\n",
      "2020-03-24  오후 11:26           561,276 Lighthouse.jpg\n",
      "2022-03-14  오후 07:38           138,350 python 환경 테스트.ipynb\n",
      "2021-02-07  오전 04:32             1,059 r 환경 테스트.ipynb\n",
      "2021-02-11  오후 09:34    <DIR>          test\n",
      "2021-02-07  오전 12:21    <DIR>          tmp\n",
      "2022-03-20  오전 01:16         1,183,222 w2-3lecture.zip\n",
      "2021-02-13  오후 03:41             2,837 마크다운 테스트.ipynb\n",
      "              10개 파일           2,177,182 바이트\n",
      "               6개 디렉터리  281,704,275,968 바이트 남음\n"
     ]
    }
   ],
   "source": [
    "!dir"
   ]
  },
  {
   "cell_type": "code",
   "execution_count": 5,
   "metadata": {},
   "outputs": [
    {
     "name": "stdout",
     "output_type": "stream",
     "text": [
      " C 드라이브의 볼륨에는 이름이 없습니다.\n",
      " 볼륨 일련 번호: 88A2-59ED\n",
      "\n",
      " C:\\Users\\user\\Desktop\\- 데이터과학의세계\\w2-3lecture 디렉터리\n",
      "\n",
      "2021-03-12  오전 07:41             6,502 !과 %의 차이.ipynb\n",
      "2022-03-20  오전 01:16    <DIR>          .\n",
      "2022-03-20  오전 01:16    <DIR>          ..\n",
      "2022-03-01  오후 05:26    <DIR>          .ipynb_checkpoints\n",
      "2020-03-23  오전 11:41             3,040 Google_Drive_usage_sample.ipynb\n",
      "2020-03-23  오전 10:13            45,146 housepricedata.csv\n",
      "2021-02-13  오후 03:34    <DIR>          img\n",
      "2021-02-11  오후 02:23             8,574 introduction_jupyter 및 마크다운.ipynb\n",
      "2021-02-14  오후 08:21           227,176 Jupyter Notebook 테스트.ipynb\n",
      "2020-03-24  오후 11:26           561,276 Lighthouse.jpg\n",
      "2022-03-14  오후 07:38           138,350 python 환경 테스트.ipynb\n",
      "2021-02-07  오전 04:32             1,059 r 환경 테스트.ipynb\n",
      "2021-02-11  오후 09:34    <DIR>          test\n",
      "2021-02-07  오전 12:21    <DIR>          tmp\n",
      "2022-03-20  오전 01:16         1,183,222 w2-3lecture.zip\n",
      "2021-02-13  오후 03:41             2,837 마크다운 테스트.ipynb\n",
      "              10개 파일           2,177,182 바이트\n",
      "               6개 디렉터리  281,704,206,336 바이트 남음\n"
     ]
    }
   ],
   "source": [
    "%ls"
   ]
  },
  {
   "cell_type": "code",
   "execution_count": 6,
   "metadata": {},
   "outputs": [
    {
     "data": {
      "text/plain": [
       "'C:\\\\Users\\\\user\\\\Desktop\\\\- 데이터과학의세계\\\\w2-3lecture'"
      ]
     },
     "execution_count": 6,
     "metadata": {},
     "output_type": "execute_result"
    }
   ],
   "source": [
    "%pwd"
   ]
  },
  {
   "cell_type": "code",
   "execution_count": 7,
   "metadata": {},
   "outputs": [
    {
     "data": {
      "text/plain": [
       "'C:\\\\Users\\\\user\\\\Desktop\\\\- 데이터과학의세계\\\\w2-3lecture'"
      ]
     },
     "execution_count": 7,
     "metadata": {},
     "output_type": "execute_result"
    }
   ],
   "source": [
    "%pwd"
   ]
  },
  {
   "cell_type": "code",
   "execution_count": 8,
   "metadata": {},
   "outputs": [
    {
     "name": "stderr",
     "output_type": "stream",
     "text": [
      "'pwd'은(는) 내부 또는 외부 명령, 실행할 수 있는 프로그램, 또는\n",
      "배치 파일이 아닙니다.\n"
     ]
    }
   ],
   "source": [
    "!pwd"
   ]
  },
  {
   "cell_type": "code",
   "execution_count": 9,
   "metadata": {},
   "outputs": [
    {
     "name": "stdout",
     "output_type": "stream",
     "text": [
      "C:\\Users\\user\\Desktop\\- 데이터과학의세계\\w2-3lecture\\tmp\n"
     ]
    }
   ],
   "source": [
    "%cd tmp"
   ]
  },
  {
   "cell_type": "code",
   "execution_count": 10,
   "metadata": {},
   "outputs": [
    {
     "name": "stdout",
     "output_type": "stream",
     "text": [
      "C:\\Users\\user\\Desktop\\- 데이터과학의세계\\w2-3lecture\n"
     ]
    }
   ],
   "source": [
    "%cd .."
   ]
  }
 ],
 "metadata": {
  "kernelspec": {
   "display_name": "Python 3 (ipykernel)",
   "language": "python",
   "name": "python3"
  },
  "language_info": {
   "codemirror_mode": {
    "name": "ipython",
    "version": 3
   },
   "file_extension": ".py",
   "mimetype": "text/x-python",
   "name": "python",
   "nbconvert_exporter": "python",
   "pygments_lexer": "ipython3",
   "version": "3.8.5"
  }
 },
 "nbformat": 4,
 "nbformat_minor": 4
}
