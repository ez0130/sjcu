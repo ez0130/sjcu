{
 "cells": [
  {
   "cell_type": "code",
   "execution_count": 1,
   "id": "requested-collection",
   "metadata": {},
   "outputs": [
    {
     "data": {
      "text/plain": [
       "2"
      ]
     },
     "execution_count": 1,
     "metadata": {},
     "output_type": "execute_result"
    }
   ],
   "source": [
    "1+1"
   ]
  },
  {
   "cell_type": "markdown",
   "id": "purple-fault",
   "metadata": {},
   "source": [
    "1+1"
   ]
  },
  {
   "cell_type": "markdown",
   "id": "broadband-genetics",
   "metadata": {},
   "source": [
    "# 이것은 마크다운입니다. "
   ]
  },
  {
   "cell_type": "markdown",
   "id": "sunset-transcript",
   "metadata": {},
   "source": [
    "# Heading 1\n",
    "## Heading 2\n",
    "### Heading 3\n",
    "#### Heading 4"
   ]
  },
  {
   "cell_type": "markdown",
   "id": "strategic-banks",
   "metadata": {},
   "source": [
    "**bold**"
   ]
  },
  {
   "cell_type": "markdown",
   "id": "organizational-willow",
   "metadata": {},
   "source": [
    "이렇게 **강조체**가 가능합니다."
   ]
  },
  {
   "cell_type": "markdown",
   "id": "communist-pressure",
   "metadata": {},
   "source": [
    "_italics_"
   ]
  },
  {
   "cell_type": "markdown",
   "id": "moved-header",
   "metadata": {},
   "source": [
    "### 불릿 리스트 ###\n",
    "* 리스트\n",
    "* 리스트\n",
    "* 리스트\n",
    "\n",
    "### 순서있는 리스트 ###\n",
    "1. 하나\n",
    "2. 둘\n",
    "3. 셋\n",
    "\n",
    "다음 명령어를 통해 `tensorflow`와 `keras`를 설치할 수 있습니다.  \n",
    "``` \n",
    "conda install -c conda-forge tensorflow keras\n",
    "conda install -c conda-forge pandas\n",
    "\n",
    "```"
   ]
  },
  {
   "cell_type": "markdown",
   "id": "alternate-dining",
   "metadata": {},
   "source": [
    "다음은 파이썬 code block입니다.\n",
    "\n",
    "```python\n",
    "for i in range(0:10):\n",
    "    print(i)\n",
    "```"
   ]
  },
  {
   "cell_type": "markdown",
   "id": "psychological-workshop",
   "metadata": {},
   "source": [
    "---\n",
    "![등대](./Lighthouse.jpg)\n",
    "![노트북 shortcut](./img/shortcuts.png)"
   ]
  },
  {
   "cell_type": "code",
   "execution_count": null,
   "id": "joint-daisy",
   "metadata": {},
   "outputs": [],
   "source": []
  }
 ],
 "metadata": {
  "kernelspec": {
   "display_name": "Python 3",
   "language": "python",
   "name": "python3"
  },
  "language_info": {
   "codemirror_mode": {
    "name": "ipython",
    "version": 3
   },
   "file_extension": ".py",
   "mimetype": "text/x-python",
   "name": "python",
   "nbconvert_exporter": "python",
   "pygments_lexer": "ipython3",
   "version": "3.8.5"
  },
  "toc-autonumbering": false,
  "toc-showcode": false,
  "toc-showmarkdowntxt": false
 },
 "nbformat": 4,
 "nbformat_minor": 5
}
